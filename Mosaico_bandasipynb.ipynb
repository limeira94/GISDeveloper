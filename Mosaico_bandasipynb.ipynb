{
  "nbformat": 4,
  "nbformat_minor": 0,
  "metadata": {
    "colab": {
      "name": "Mosaico_bandasipynb",
      "provenance": [],
      "collapsed_sections": [],
      "authorship_tag": "ABX9TyPvAGNtNH8++4rLsugxgW6C",
      "include_colab_link": true
    },
    "kernelspec": {
      "name": "python3",
      "display_name": "Python 3"
    },
    "language_info": {
      "name": "python"
    }
  },
  "cells": [
    {
      "cell_type": "markdown",
      "metadata": {
        "id": "view-in-github",
        "colab_type": "text"
      },
      "source": [
        "<a href=\"https://colab.research.google.com/github/limeira94/geo_spatial_data/blob/main/Mosaico_bandasipynb.ipynb\" target=\"_parent\"><img src=\"https://colab.research.google.com/assets/colab-badge.svg\" alt=\"Open In Colab\"/></a>"
      ]
    },
    {
      "cell_type": "code",
      "source": [
        "!pip install rasterio -q"
      ],
      "metadata": {
        "colab": {
          "base_uri": "https://localhost:8080/"
        },
        "id": "q8UCo_JKP9L0",
        "outputId": "3a576930-71a4-430b-a001-a664b65cb2c9"
      },
      "execution_count": 2,
      "outputs": [
        {
          "output_type": "stream",
          "name": "stdout",
          "text": [
            "\u001b[K     |████████████████████████████████| 19.3 MB 5.9 MB/s \n",
            "\u001b[?25h"
          ]
        }
      ]
    },
    {
      "cell_type": "code",
      "execution_count": 3,
      "metadata": {
        "id": "fCjU9b0XPTPY"
      },
      "outputs": [],
      "source": [
        "from rasterio.plot import show\n",
        "from rasterio.merge import merge\n",
        "import rasterio as rio\n",
        "from glob import glob\n",
        "import os\n"
      ]
    },
    {
      "cell_type": "code",
      "source": [
        "pasta1 = input(\"digita a primeira pasta com as bandas\")\n",
        "pasta2 = input(\"digite a segunda pasta com as bandas\")\n",
        "out_put = input(\"digite a pasta para salvar o mosaico\")"
      ],
      "metadata": {
        "id": "Jo-6YAkCQjmy"
      },
      "execution_count": null,
      "outputs": []
    },
    {
      "cell_type": "code",
      "source": [
        "imagem1 = glob(os.path.join(pasta1, '**.jp2'))\n",
        "imagem2 = glob(os.path.join(pasta2, '**.jp2'))\n",
        "\n",
        "for i in range(len(imagem1)):\n",
        "  item1 = imagem1[i]\n",
        "  raster1 = rio.open(item1)\n",
        "  item2 = imagem2[i]\n",
        "  raster2 = rio.open(item2)\n",
        "\n",
        "  count = item1[-11:]\n",
        "  output_raster = out_put + '\\\\' + count\n",
        "\n",
        "  newlist = [raster1, raster2]\n",
        "  mosaic, output = merge(newlist)\n",
        "\n",
        "  output_meta = raster1.meta.copy()\n",
        "  output_meta.update(\n",
        "      {\"driver\": \"Gtiff\",\n",
        "       \"height\": mosaic.shape[1],\n",
        "       \"width\": mosaic.shape[2],\n",
        "       \"transform\": output\n",
        "      })\n",
        "  with rio.open(output_raster, \"w\", **output_meta) as m:\n",
        "    m.write(mosaic)"
      ],
      "metadata": {
        "id": "lq34Op8DQzB7"
      },
      "execution_count": null,
      "outputs": []
    },
    {
      "cell_type": "markdown",
      "source": [
        ""
      ],
      "metadata": {
        "id": "gbTI1-ntSIKD"
      }
    }
  ]
}